{
 "cells": [
  {
   "cell_type": "markdown",
   "metadata": {},
   "source": [
    "# Scraping shopee marketplace"
   ]
  },
  {
   "cell_type": "code",
   "execution_count": 1,
   "metadata": {},
   "outputs": [],
   "source": [
    "import json\n",
    "import pandas as pd\n",
    "import random\n",
    "import re\n",
    "import requests\n",
    "import time\n",
    "import numpy as np\n",
    "import cloudscraper\n",
    "\n",
    "\n",
    "SCHEMA = {\n",
    "    \"condition\":\"object\",\n",
    "    \"created_at\":\"datetime64[ns]\",\n",
    "    \"id\":\"object\",\n",
    "    \"max_quantity\":\"object\",\n",
    "    \"merchant_return_insurance\":\"bool\",\n",
    "    \"min_quantity\":\"Int64\",\n",
    "    \"name\":\"object\",\n",
    "    \"price\":\"Int64\",\n",
    "    \"rush_delivery\":\"bool\",\n",
    "    \"sku_id\":\"object\",\n",
    "    \"state\":\"object\",\n",
    "    \"stock\":\"Int64\",\n",
    "    \"weight\":\"Int64\",\n",
    "    \"category_url\":\"object\",\n",
    "    \"rating_average_rate\":\"float64\",\n",
    "    \"rating_user_count\":\"Int64\",\n",
    "    \"sla_type\":\"object\",\n",
    "    \"sla_value\":\"object\",\n",
    "    \"specs_brand\":\"object\",\n",
    "    \"stats_interest_count\":\"Int64\",\n",
    "    \"stats_sold_count\":\"Int64\",\n",
    "    \"stats_view_count\":\"Int64\",\n",
    "    \"stats_waiting_payment_count\":\"float64\",\n",
    "    \"store_address_city\":\"object\",\n",
    "    \"store_address_province\":\"object\",\n",
    "    \"store_brand_seller\":\"bool\",\n",
    "    \"store_delivery_time\":\"object\",\n",
    "    \"store_id\":\"object\",\n",
    "    \"store_description\":\"object\",\n",
    "    \"store_level_name\":\"object\",\n",
    "    \"store_name\":\"object\",\n",
    "    \"store_premium_level\":\"object\",\n",
    "    \"store_premium_top_seller\":\"bool\",\n",
    "    \"store_rejection_recent_transactions\":\"Int64\",\n",
    "    \"store_rejection_rejected\":\"Int64\",\n",
    "    \"store_reviews_negative\":\"Int64\",\n",
    "    \"store_reviews_positive\":\"Int64\",\n",
    "    \"store_sla_type\":\"object\",\n",
    "    \"store_sla_value\":\"Int64\",\n",
    "    \"store_subscriber_amount\":\"Int64\",\n",
    "    \"store_url\":\"object\",\n",
    "    \"warranty_cheapest\":\"bool\",\n",
    "    \"deal_applied_date\":\"datetime64[ns]\",\n",
    "    \"deal_discount_price\":\"Int64\",\n",
    "    \"deal_expired_date\":\"datetime64[ns]\",\n",
    "    \"deal_original_price\":\"Int64\",\n",
    "    \"deal_percentage\":\"Int64\",\n",
    "    \"url\":\"object\",\n",
    "    \"timestamp\":\"datetime64[ns]\"\n",
    "}\n",
    "\n",
    "ADD_COL_TYPE = {\n",
    "    'datetime': ['timestamp','created_at','deal_applied_date','deal_expired_date'],\n",
    "    'bool_str': ['merchant_return_insurance', 'rush_delivery', 'store_brand_seller', 'store_premium_top_seller', 'warranty_cheapest'],\n",
    "}"
   ]
  },
  {
   "cell_type": "code",
   "execution_count": 28,
   "metadata": {},
   "outputs": [
    {
     "ename": "AttributeError",
     "evalue": "'Response' object has no attribute 'search'",
     "output_type": "error",
     "traceback": [
      "\u001b[0;31m---------------------------------------------------------------------------\u001b[0m",
      "\u001b[0;31mAttributeError\u001b[0m                            Traceback (most recent call last)",
      "\u001b[1;32m/home/alfian/repository/scraping-data-pipeline/notebook/shopee.ipynb Cell 3'\u001b[0m in \u001b[0;36m<cell line: 11>\u001b[0;34m()\u001b[0m\n\u001b[1;32m      <a href='vscode-notebook-cell:/home/alfian/repository/scraping-data-pipeline/notebook/shopee.ipynb#ch0000006?line=6'>7</a>\u001b[0m     access_token \u001b[39m=\u001b[39m access_token_search\u001b[39m.\u001b[39mgroup()[\u001b[39m16\u001b[39m:\u001b[39m-\u001b[39m\u001b[39m1\u001b[39m]\n\u001b[1;32m      <a href='vscode-notebook-cell:/home/alfian/repository/scraping-data-pipeline/notebook/shopee.ipynb#ch0000006?line=7'>8</a>\u001b[0m     \u001b[39mreturn\u001b[39;00m \u001b[39mprint\u001b[39m(access_token)\n\u001b[0;32m---> <a href='vscode-notebook-cell:/home/alfian/repository/scraping-data-pipeline/notebook/shopee.ipynb#ch0000006?line=10'>11</a>\u001b[0m get_token()\n",
      "\u001b[1;32m/home/alfian/repository/scraping-data-pipeline/notebook/shopee.ipynb Cell 3'\u001b[0m in \u001b[0;36mget_token\u001b[0;34m()\u001b[0m\n\u001b[1;32m      <a href='vscode-notebook-cell:/home/alfian/repository/scraping-data-pipeline/notebook/shopee.ipynb#ch0000006?line=0'>1</a>\u001b[0m \u001b[39mdef\u001b[39;00m \u001b[39mget_token\u001b[39m():\n\u001b[1;32m      <a href='vscode-notebook-cell:/home/alfian/repository/scraping-data-pipeline/notebook/shopee.ipynb#ch0000006?line=1'>2</a>\u001b[0m     re \u001b[39m=\u001b[39m requests\u001b[39m.\u001b[39mget(\u001b[39m\"\u001b[39m\u001b[39mhttps://bukalapak.com\u001b[39m\u001b[39m\"\u001b[39m,\n\u001b[1;32m      <a href='vscode-notebook-cell:/home/alfian/repository/scraping-data-pipeline/notebook/shopee.ipynb#ch0000006?line=2'>3</a>\u001b[0m                        headers\u001b[39m=\u001b[39m{\n\u001b[1;32m      <a href='vscode-notebook-cell:/home/alfian/repository/scraping-data-pipeline/notebook/shopee.ipynb#ch0000006?line=3'>4</a>\u001b[0m                            \u001b[39m\"\u001b[39m\u001b[39mUser-Agent\u001b[39m\u001b[39m\"\u001b[39m: \u001b[39m\"\u001b[39m\u001b[39mMozilla/5.0 (X11; Ubuntu; Linux x86_64; rv:79.0) Gecko/20100101 Firefox/79.0\u001b[39m\u001b[39m\"\u001b[39m,\n\u001b[1;32m      <a href='vscode-notebook-cell:/home/alfian/repository/scraping-data-pipeline/notebook/shopee.ipynb#ch0000006?line=4'>5</a>\u001b[0m                        })\n\u001b[0;32m----> <a href='vscode-notebook-cell:/home/alfian/repository/scraping-data-pipeline/notebook/shopee.ipynb#ch0000006?line=5'>6</a>\u001b[0m     access_token_search \u001b[39m=\u001b[39m re\u001b[39m.\u001b[39;49msearch(\u001b[39m\"\u001b[39m\u001b[39m\\\"\u001b[39;00m\u001b[39maccess_token\u001b[39m\u001b[39m\\\"\u001b[39;00m\u001b[39m:\u001b[39m\u001b[39m\\\"\u001b[39;00m\u001b[39m(.*?)\u001b[39m\u001b[39m\\\"\u001b[39;00m\u001b[39m\"\u001b[39m,re\u001b[39m.\u001b[39mtext)\n\u001b[1;32m      <a href='vscode-notebook-cell:/home/alfian/repository/scraping-data-pipeline/notebook/shopee.ipynb#ch0000006?line=6'>7</a>\u001b[0m     access_token \u001b[39m=\u001b[39m access_token_search\u001b[39m.\u001b[39mgroup()[\u001b[39m16\u001b[39m:\u001b[39m-\u001b[39m\u001b[39m1\u001b[39m]\n\u001b[1;32m      <a href='vscode-notebook-cell:/home/alfian/repository/scraping-data-pipeline/notebook/shopee.ipynb#ch0000006?line=7'>8</a>\u001b[0m     \u001b[39mreturn\u001b[39;00m \u001b[39mprint\u001b[39m(access_token)\n",
      "\u001b[0;31mAttributeError\u001b[0m: 'Response' object has no attribute 'search'"
     ]
    }
   ],
   "source": [
    "def get_token():\n",
    "    res = requests.get(\"https://bukalapak.com\",\n",
    "                       headers={\n",
    "                           \"User-Agent\": \"Mozilla/5.0 (X11; Ubuntu; Linux x86_64; rv:79.0) Gecko/20100101 Firefox/79.0\",\n",
    "                       })\n",
    "    access_token_search = re.search(\"\\\"access_token\\\":\\\"(.*?)\\\"\",re.text)\n",
    "    access_token = access_token_search.group()[16:-1]\n",
    "    return print(access_token)\n",
    "\n",
    "\n",
    "get_token()"
   ]
  },
  {
   "cell_type": "code",
   "execution_count": null,
   "metadata": {},
   "outputs": [],
   "source": [
    "print (get_token)"
   ]
  },
  {
   "cell_type": "code",
   "execution_count": null,
   "metadata": {},
   "outputs": [],
   "source": [
    "def get_scrape (params, get_token, page = 2, URL = \"https://api.bukalapak.com/multistrategy-products\"):\n",
    "    DF = []\n",
    "    index = 1\n",
    "    while index <= page:\n",
    "        payload = {\n",
    "            \"offset\" : ((index-1)*30),\n",
    "            \"page\" : index,\n",
    "            \"access_token\" : get_token,\n",
    "            **params\n",
    "        }\n",
    "\n",
    "        headers = {\n",
    "                \"User-Agent\": \"Mozilla/5.0 (X11; Ubuntu; Linux x86_64; rv:79.0) Gecko/20100101 Firefox/79.0\",\n",
    "            }\n",
    "    \n",
    "        scrape = requests.get (url=URL, params = payload, headers=headers)\n",
    "        sleep_time = random.randint(10, 50)\n",
    "        time.sleep(sleep_time / 1000)\n",
    "\n",
    "    \n",
    "        return print (scrape.status_code)"
   ]
  },
  {
   "cell_type": "code",
   "execution_count": null,
   "metadata": {},
   "outputs": [],
   "source": [
    "params = {\n",
    "    \"prambanan_override\" : \"true\",\n",
    "    \"category_id\" : 2308,\n",
    "    \"sort\" : \"bestselling\",\n",
    "    \"limit\" : 30,\n",
    "    \"facet\" : \"true\",\n",
    "    # \"brand\": \"true\"\n",
    "}\n",
    "get_scrape(params, get_token)"
   ]
  },
  {
   "cell_type": "code",
   "execution_count": 20,
   "metadata": {},
   "outputs": [
    {
     "data": {
      "text/plain": [
       "200"
      ]
     },
     "execution_count": 20,
     "metadata": {},
     "output_type": "execute_result"
    }
   ],
   "source": [
    "params = {\n",
    "    \"offset\" : 0,\n",
    "    \"page\" : 1,\n",
    "    \"access_token\" : \"Yam1Z2lIBLKLlYHEWWXhKheQIS46-zXOvuIMvy3MxVRYzA\",\n",
    "    \"prambanan_override\" : \"true\",\n",
    "    \"category_id\" : 3263,\n",
    "    \"sort\" : \"bestselling\",\n",
    "    \"limit\" : 30,\n",
    "    \"facet\" : \"true\",\n",
    "    # \"brand\": \"true\"\n",
    "}\n",
    "\n",
    "headers = {\n",
    "                \"User-Agent\": \"Mozilla/5.0 (X11; Ubuntu; Linux x86_64; rv:79.0) Gecko/20100101 Firefox/79.0\",\n",
    "            }\n",
    "\n",
    "scraper = cloudscraper.create_scraper()\n",
    "\n",
    "scrape = scraper.get(\"https://api.bukalapak.com/multistrategy-products\", params = params, headers = headers)\n",
    "\n",
    "scrape.status_code"
   ]
  }
 ],
 "metadata": {
  "kernelspec": {
   "display_name": "Python 3.10.4 ('scraping')",
   "language": "python",
   "name": "python3"
  },
  "language_info": {
   "codemirror_mode": {
    "name": "ipython",
    "version": 3
   },
   "file_extension": ".py",
   "mimetype": "text/x-python",
   "name": "python",
   "nbconvert_exporter": "python",
   "pygments_lexer": "ipython3",
   "version": "3.10.4"
  },
  "orig_nbformat": 4,
  "vscode": {
   "interpreter": {
    "hash": "dc2d76fe6947d49177b6069d8188b63289155fc29466e660ef7ba23821532413"
   }
  }
 },
 "nbformat": 4,
 "nbformat_minor": 2
}
